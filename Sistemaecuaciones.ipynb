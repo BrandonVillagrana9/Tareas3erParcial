{
  "nbformat": 4,
  "nbformat_minor": 0,
  "metadata": {
    "colab": {
      "name": "Sistemaecuaciones.ipynb",
      "provenance": [],
      "collapsed_sections": []
    },
    "kernelspec": {
      "name": "python3",
      "display_name": "Python 3"
    }
  },
  "cells": [
    {
      "cell_type": "code",
      "metadata": {
        "id": "Cee5ZnNgLfK3"
      },
      "source": [
        "##VILLAGRANA APARICIO BRANDON JAIR\r\n",
        "##Sistema de ecuaciones 3-parcial\r\n",
        "import matplotlib.pyplot as plt\r\n",
        "import numpy"
      ],
      "execution_count": 35,
      "outputs": []
    },
    {
      "cell_type": "code",
      "metadata": {
        "colab": {
          "base_uri": "https://localhost:8080/"
        },
        "id": "otOCQ97Z6pg3",
        "outputId": "23104ef1-b361-4711-9d20-e16dcdba6e2b"
      },
      "source": [
        "m=int(input('ingrese el valor de m:'))\r\n",
        "n=int(input('Ingrese el valor de n:'))\r\n",
        "ma = numpy.zeros((m,n))\r\n",
        "x=numpy.zeros((m))\r\n",
        "vector=numpy.zeros((n))\r\n",
        "comp=numpy.zeros((m))\r\n",
        "error=[]"
      ],
      "execution_count": 36,
      "outputs": [
        {
          "output_type": "stream",
          "text": [
            "ingrese el valor de m:4\n",
            "Ingrese el valor de n:4\n"
          ],
          "name": "stdout"
        }
      ]
    },
    {
      "cell_type": "code",
      "metadata": {
        "colab": {
          "base_uri": "https://localhost:8080/"
        },
        "id": "di4SBW3CJCR8",
        "outputId": "3141df55-7f5f-44f8-ab7d-be035b9fc383"
      },
      "source": [
        "print ('Ingrese los valores')\r\n",
        "for r in range(0,m):\r\n",
        "    for c in range(0,n):\r\n",
        "        ma[(r),(c)]=float(input(\"Ingrese el elemento a[\"+str(r+1)+str(c+1)+\"] \"))\r\n",
        "    vector[(r)]=float(input('b['+str(r+1)+']: '))\r\n",
        "tol=float(input(\"Ingrese el error: \"))\r\n",
        "itera=int(input(\"Ingrese el número de iteraciones: \"))"
      ],
      "execution_count": 37,
      "outputs": [
        {
          "output_type": "stream",
          "text": [
            "Ingrese los valores\n",
            "Ingrese el elemento a[11] 4\n",
            "Ingrese el elemento a[12] -1\n",
            "Ingrese el elemento a[13] 0\n",
            "Ingrese el elemento a[14] 0\n",
            "b[1]: 1\n",
            "Ingrese el elemento a[21] -1\n",
            "Ingrese el elemento a[22] 4\n",
            "Ingrese el elemento a[23] -1\n",
            "Ingrese el elemento a[24] 0\n",
            "b[2]: 1\n",
            "Ingrese el elemento a[31] 0\n",
            "Ingrese el elemento a[32] -1\n",
            "Ingrese el elemento a[33] 4\n",
            "Ingrese el elemento a[34] -1\n",
            "b[3]: 1\n",
            "Ingrese el elemento a[41] 0\n",
            "Ingrese el elemento a[42] 0\n",
            "Ingrese el elemento a[43] -1\n",
            "Ingrese el elemento a[44] 4\n",
            "b[4]: 1\n",
            "Ingrese el error: 0.0001\n",
            "Ingrese el número de iteraciones: 10\n"
          ],
          "name": "stdout"
        }
      ]
    },
    {
      "cell_type": "code",
      "metadata": {
        "colab": {
          "base_uri": "https://localhost:8080/"
        },
        "id": "SYMk0YyrJRtL",
        "outputId": "cbcb010a-dcc9-4c1f-e679-0ab8a7b5a588"
      },
      "source": [
        "k=0\r\n",
        "while k<itera:\r\n",
        "    suma=0\r\n",
        "    k=k+1\r\n",
        "    for r in range(0,m):\r\n",
        "        suma=0\r\n",
        "        for c in range(0,n):\r\n",
        "            if (c!= r):\r\n",
        "                suma=suma+ma[r,c]*x[c]               \r\n",
        "        x[r]=(vector[r]-suma)/ma[r,r]\r\n",
        "        print(\" \")\r\n",
        "        print(\"x[\"+str(r)+\"]: \"+ str(x[r]))\r\n",
        "    del error[:]\r\n",
        "    for r in range (0,m):\r\n",
        "        suma =0\r\n",
        "        for c in range(0,n):\r\n",
        "            suma= suma+ma[r,c]*x[c]\r\n",
        "        comp[r]= suma\r\n",
        "        dif=abs(comp[r]-vector[r])\r\n",
        "        error.append(dif)\r\n",
        "        print(\" \")\r\n",
        "        print(\"Error en x[\",r,\"]= \", error[r])\r\n",
        "    print(\"Iteraciones: \", k)\r\n",
        "    if all (i<=tol for i in error) == True:\r\n",
        "        break"
      ],
      "execution_count": 38,
      "outputs": [
        {
          "output_type": "stream",
          "text": [
            " \n",
            "x[0]: 0.25\n",
            " \n",
            "x[1]: 0.3125\n",
            " \n",
            "x[2]: 0.328125\n",
            " \n",
            "x[3]: 0.33203125\n",
            " \n",
            "Error en x[ 0 ]=  0.3125\n",
            " \n",
            "Error en x[ 1 ]=  0.328125\n",
            " \n",
            "Error en x[ 2 ]=  0.33203125\n",
            " \n",
            "Error en x[ 3 ]=  0.0\n",
            "Iteraciones:  1\n",
            " \n",
            "x[0]: 0.328125\n",
            " \n",
            "x[1]: 0.4140625\n",
            " \n",
            "x[2]: 0.4365234375\n",
            " \n",
            "x[3]: 0.359130859375\n",
            " \n",
            "Error en x[ 0 ]=  0.1015625\n",
            " \n",
            "Error en x[ 1 ]=  0.1083984375\n",
            " \n",
            "Error en x[ 2 ]=  0.027099609375\n",
            " \n",
            "Error en x[ 3 ]=  0.0\n",
            "Iteraciones:  2\n",
            " \n",
            "x[0]: 0.353515625\n",
            " \n",
            "x[1]: 0.447509765625\n",
            " \n",
            "x[2]: 0.45166015625\n",
            " \n",
            "x[3]: 0.3629150390625\n",
            " \n",
            "Error en x[ 0 ]=  0.033447265625\n",
            " \n",
            "Error en x[ 1 ]=  0.01513671875\n",
            " \n",
            "Error en x[ 2 ]=  0.0037841796875\n",
            " \n",
            "Error en x[ 3 ]=  0.0\n",
            "Iteraciones:  3\n",
            " \n",
            "x[0]: 0.36187744140625\n",
            " \n",
            "x[1]: 0.4533843994140625\n",
            " \n",
            "x[2]: 0.4540748596191406\n",
            " \n",
            "x[3]: 0.36351871490478516\n",
            " \n",
            "Error en x[ 0 ]=  0.0058746337890625\n",
            " \n",
            "Error en x[ 1 ]=  0.002414703369140625\n",
            " \n",
            "Error en x[ 2 ]=  0.0006036758422851562\n",
            " \n",
            "Error en x[ 3 ]=  0.0\n",
            "Iteraciones:  4\n",
            " \n",
            "x[0]: 0.3633460998535156\n",
            " \n",
            "x[1]: 0.45435523986816406\n",
            " \n",
            "x[2]: 0.4544684886932373\n",
            " \n",
            "x[3]: 0.3636171221733093\n",
            " \n",
            "Error en x[ 0 ]=  0.0009708404541015625\n",
            " \n",
            "Error en x[ 1 ]=  0.0003936290740966797\n",
            " \n",
            "Error en x[ 2 ]=  9.840726852416992e-05\n",
            " \n",
            "Error en x[ 3 ]=  0.0\n",
            "Iteraciones:  5\n",
            " \n",
            "x[0]: 0.363588809967041\n",
            " \n",
            "x[1]: 0.4545143246650696\n",
            " \n",
            "x[2]: 0.4545328617095947\n",
            " \n",
            "x[3]: 0.3636332154273987\n",
            " \n",
            "Error en x[ 0 ]=  0.00015908479690551758\n",
            " \n",
            "Error en x[ 1 ]=  6.437301635742188e-05\n",
            " \n",
            "Error en x[ 2 ]=  1.609325408935547e-05\n",
            " \n",
            "Error en x[ 3 ]=  0.0\n",
            "Iteraciones:  6\n",
            " \n",
            "x[0]: 0.3636285811662674\n",
            " \n",
            "x[1]: 0.45454036071896553\n",
            " \n",
            "x[2]: 0.45454339403659105\n",
            " \n",
            "x[3]: 0.36363584850914776\n",
            " \n",
            "Error en x[ 0 ]=  2.6036053895950317e-05\n",
            " \n",
            "Error en x[ 1 ]=  1.0532326996326447e-05\n",
            " \n",
            "Error en x[ 2 ]=  2.6330817490816116e-06\n",
            " \n",
            "Error en x[ 3 ]=  0.0\n",
            "Iteraciones:  7\n"
          ],
          "name": "stdout"
        }
      ]
    },
    {
      "cell_type": "code",
      "metadata": {
        "colab": {
          "base_uri": "https://localhost:8080/",
          "height": 282
        },
        "id": "fPlWEMCF_GGK",
        "outputId": "a6d840d2-f725-4af6-e827-52e48d72c3ef"
      },
      "source": [
        "plt.plot(ma)\r\n",
        "plt.show"
      ],
      "execution_count": 39,
      "outputs": [
        {
          "output_type": "execute_result",
          "data": {
            "text/plain": [
              "<function matplotlib.pyplot.show>"
            ]
          },
          "metadata": {
            "tags": []
          },
          "execution_count": 39
        },
        {
          "output_type": "display_data",
          "data": {
            "image/png": "[encoded data removed]",
            "text/plain": [
              "<Figure size 432x288 with 1 Axes>"
            ]
          },
          "metadata": {
            "tags": [],
            "needs_background": "light"
          }
        }
      ]
    }
  ]
}