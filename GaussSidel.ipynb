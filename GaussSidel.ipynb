{
  "nbformat": 4,
  "nbformat_minor": 0,
  "metadata": {
    "colab": {
      "name": "GaussSidel.ipynb",
      "provenance": []
    },
    "kernelspec": {
      "name": "python3",
      "display_name": "Python 3"
    }
  },
  "cells": [
    {
      "cell_type": "code",
      "metadata": {
        "id": "J9ZvHdlbz1pg"
      },
      "source": [
        "##VILLAGRANA APARICIO BRANDON JAIR \r\n",
        "import matplotlib.pyplot as plt\r\n",
        "import math"
      ],
      "execution_count": 18,
      "outputs": []
    },
    {
      "cell_type": "code",
      "metadata": {
        "colab": {
          "base_uri": "https://localhost:8080/",
          "height": 353
        },
        "id": "SWxk2RIey7V1",
        "outputId": "356ffd1f-18e7-46d3-d7cd-7bf6e9d05667"
      },
      "source": [
        "def Gauss():\r\n",
        "\r\n",
        "  def x2(y):\r\n",
        "    return  (0.25 + (0.25*y))\r\n",
        "  def y2(x,z):\r\n",
        "    return  (0.25 +(0.25*x) + (0.25*z))\r\n",
        "  def z2(y,w):\r\n",
        "    return  (0.25 + (0.25*y) + (0.25*w))\r\n",
        "  def w2(z):\r\n",
        "    return  (0.25 + (0.25*z))\r\n",
        "\r\n",
        "  x1=[0]\r\n",
        "  y1=[0]\r\n",
        "  z1=[0]\r\n",
        "  w1=[0]\r\n",
        "  cont = 0\r\n",
        "  x=0\r\n",
        "  y=0\r\n",
        "  z=0\r\n",
        "  w=0\r\n",
        "\r\n",
        "  while(cont < 10):\r\n",
        "    x = x2(y)\r\n",
        "    x1.append(x)\r\n",
        "    y = y2(x , z)\r\n",
        "    y1.append(y)\r\n",
        "    z = z2(y, w)\r\n",
        "    z1.append(z)\r\n",
        "    w = w2(z)\r\n",
        "    w1.append(w)\r\n",
        "    cont += 1\r\n",
        "  \r\n",
        "  print('x: '+ str (x1))\r\n",
        "  print('y: '+ str (y1))\r\n",
        "  print('z: '+ str (z1))\r\n",
        "  print('w: '+ str (w1))\r\n",
        "\r\n",
        "  plt.plot(x1, label = \"x\")\r\n",
        "  plt.plot(y1, label = \"y\")\r\n",
        "  plt.plot(z1, label = \"z\")\r\n",
        "  plt.plot(w1, label = \"w\")\r\n",
        "  plt.legend()\r\n",
        "  plt.show()\r\n",
        "\r\n",
        "Gauss()"
      ],
      "execution_count": 19,
      "outputs": [
        {
          "output_type": "stream",
          "text": [
            "x: [0, 0.25, 0.328125, 0.353515625, 0.36187744140625, 0.3633460998535156, 0.363588809967041, 0.3636285811662674, 0.3636350901797414, 0.3636361552635208, 0.36363632954089553]\n",
            "y: [0, 0.3125, 0.4140625, 0.447509765625, 0.4533843994140625, 0.45435523986816406, 0.4545143246650696, 0.45454036071896553, 0.4545446210540831, 0.4545453181635821, 0.45454543222967914]\n",
            "z: [0, 0.328125, 0.4365234375, 0.45166015625, 0.4540748596191406, 0.4544684886932373, 0.4545328617095947, 0.45454339403659105, 0.4545451173908077, 0.454545399377821, 0.4545454455185336]\n",
            "w: [0, 0.33203125, 0.359130859375, 0.3629150390625, 0.36351871490478516, 0.3636171221733093, 0.3636332154273987, 0.36363584850914776, 0.36363627934770193, 0.36363634984445525, 0.3636363613796334]\n"
          ],
          "name": "stdout"
        },
        {
          "output_type": "display_data",
          "data": {
            "image/png": "[encoded data removed]",
            "text/plain": [
              "<Figure size 432x288 with 1 Axes>"
            ]
          },
          "metadata": {
            "tags": [],
            "needs_background": "light"
          }
        }
      ]
    },
    {
      "cell_type": "code",
      "metadata": {
        "id": "oT8_lGH_ycIp"
      },
      "source": [
        "\r\n"
      ],
      "execution_count": null,
      "outputs": []
    },
    {
      "cell_type": "code",
      "metadata": {
        "id": "jZEKF29NzKkb"
      },
      "source": [
        "\r\n",
        " "
      ],
      "execution_count": null,
      "outputs": []
    }
  ]
}